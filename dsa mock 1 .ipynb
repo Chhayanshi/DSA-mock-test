{
 "cells": [
  {
   "cell_type": "markdown",
   "id": "371cfd88",
   "metadata": {},
   "source": [
    "Given an integer array nums, move all 0's to the end of it while maintaining the relative order of the non-zero elements."
   ]
  },
  {
   "cell_type": "code",
   "execution_count": 1,
   "id": "5c486db3",
   "metadata": {},
   "outputs": [],
   "source": [
    "def Zero_end(arr, n):\n",
    "    count = 0\n",
    "    \n",
    "    for i in range(n):\n",
    "        if arr[i] != 0:\n",
    "            arr[count] = arr[i]\n",
    "            count+=1\n",
    "     \n",
    "    while count < n:\n",
    "        arr[count] = 0\n",
    "        count += 1\n",
    "         "
   ]
  },
  {
   "cell_type": "code",
   "execution_count": 2,
   "id": "645cf521",
   "metadata": {},
   "outputs": [
    {
     "name": "stdout",
     "output_type": "stream",
     "text": [
      "Array is:\n",
      "[1, 3, 12, 0, 0]\n"
     ]
    }
   ],
   "source": [
    "arr = [0,1,0,3,12]\n",
    "n = len(arr)\n",
    "Zero_end(arr, n)\n",
    "print(\"Array is:\")\n",
    "print(arr)"
   ]
  },
  {
   "cell_type": "code",
   "execution_count": 3,
   "id": "1d1020b5",
   "metadata": {},
   "outputs": [
    {
     "name": "stdout",
     "output_type": "stream",
     "text": [
      "Array is:\n",
      "[0]\n"
     ]
    }
   ],
   "source": [
    "arr =  [0]\n",
    "n = len(arr)\n",
    "Zero_end(arr, n)\n",
    "print(\"Array is:\")\n",
    "print(arr)"
   ]
  }
 ],
 "metadata": {
  "kernelspec": {
   "display_name": "Python 3 (ipykernel)",
   "language": "python",
   "name": "python3"
  },
  "language_info": {
   "codemirror_mode": {
    "name": "ipython",
    "version": 3
   },
   "file_extension": ".py",
   "mimetype": "text/x-python",
   "name": "python",
   "nbconvert_exporter": "python",
   "pygments_lexer": "ipython3",
   "version": "3.10.9"
  }
 },
 "nbformat": 4,
 "nbformat_minor": 5
}
